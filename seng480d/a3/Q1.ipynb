{
 "cells": [
  {
   "attachments": {},
   "cell_type": "markdown",
   "metadata": {},
   "source": [
    "### a)Grover's Algorithm with a Boolean Oracle\n",
    "This code is adapted from code on qiskit.org found <a href = https://qiskit.org/textbook/ch-algorithms/grover.html>here</a>."
   ]
  },
  {
   "cell_type": "code",
   "execution_count": 164,
   "metadata": {},
   "outputs": [],
   "source": [
    "# importing Qiskit\n",
    "from qiskit import IBMQ, Aer, assemble, transpile\n",
    "from qiskit import QuantumCircuit\n",
    "\n",
    "# import basic plot tools\n",
    "from qiskit.visualization import plot_histogram"
   ]
  },
  {
   "cell_type": "code",
   "execution_count": 165,
   "metadata": {},
   "outputs": [],
   "source": [
    "#new boolean oracle\n",
    "qc = QuantumCircuit(4)\n",
    "qc.x(0)\n",
    "qc.x(2)\n",
    "qc.mcx([0,1,2], 3)\n",
    "qc.x(0)\n",
    "qc.x(2)\n",
    "oracle_ex3 = qc.to_gate()\n",
    "oracle_ex3.name = \"U_w\""
   ]
  },
  {
   "cell_type": "code",
   "execution_count": 166,
   "metadata": {},
   "outputs": [],
   "source": [
    "def initialize_s(qc, qubits):\n",
    "    \"\"\"Apply a H-gate to 'qubits' in qc\"\"\"\n",
    "    for q in qubits:\n",
    "        qc.h(q)\n",
    "    return qc"
   ]
  },
  {
   "cell_type": "code",
   "execution_count": 167,
   "metadata": {},
   "outputs": [],
   "source": [
    "def diffuser(nqubits):\n",
    "    qc = QuantumCircuit(nqubits)\n",
    "    # Apply transformation |s> -> |00..0> (H-gates)\n",
    "    for qubit in range(nqubits):\n",
    "        qc.h(qubit)\n",
    "    # Apply transformation |00..0> -> |11..1> (X-gates)\n",
    "    for qubit in range(nqubits-1):\n",
    "        qc.x(qubit)\n",
    "    # Do multi-controlled-Z gate\n",
    "    qc.h(nqubits-2)\n",
    "    qc.mct(list(range(nqubits-2)), nqubits-2)  # multi-controlled-toffoli\n",
    "    qc.h(nqubits-2)\n",
    "    # Apply transformation |11..1> -> |00..0>\n",
    "    for qubit in range(nqubits-1):\n",
    "        qc.x(qubit)\n",
    "    # Apply transformation |00..0> -> |s>\n",
    "    for qubit in range(nqubits-1):\n",
    "        qc.h(qubit)\n",
    "    # We will return the diffuser as a gate\n",
    "    U_s = qc.to_gate()\n",
    "    U_s.name = \"U_s\"\n",
    "    return U_s"
   ]
  },
  {
   "cell_type": "code",
   "execution_count": 168,
   "metadata": {},
   "outputs": [
    {
     "data": {
      "text/html": [
       "<pre style=\"word-wrap: normal;white-space: pre;background: #fff0;line-height: 1.1;font-family: &quot;Courier New&quot;,Courier,monospace\">     ┌───┐┌──────┐┌──────┐┌─┐      \n",
       "q_0: ┤ H ├┤0     ├┤0     ├┤M├──────\n",
       "     ├───┤│      ││      │└╥┘┌─┐   \n",
       "q_1: ┤ H ├┤1     ├┤1     ├─╫─┤M├───\n",
       "     ├───┤│  U_w ││  U_s │ ║ └╥┘┌─┐\n",
       "q_2: ┤ H ├┤2     ├┤2     ├─╫──╫─┤M├\n",
       "     └───┘│      ││      │ ║  ║ └╥┘\n",
       "q_3: ─────┤3     ├┤3     ├─╫──╫──╫─\n",
       "          └──────┘└──────┘ ║  ║  ║ \n",
       "c: 3/══════════════════════╩══╩══╩═\n",
       "                           0  1  2 </pre>"
      ],
      "text/plain": [
       "     ┌───┐┌──────┐┌──────┐┌─┐      \n",
       "q_0: ┤ H ├┤0     ├┤0     ├┤M├──────\n",
       "     ├───┤│      ││      │└╥┘┌─┐   \n",
       "q_1: ┤ H ├┤1     ├┤1     ├─╫─┤M├───\n",
       "     ├───┤│  U_w ││  U_s │ ║ └╥┘┌─┐\n",
       "q_2: ┤ H ├┤2     ├┤2     ├─╫──╫─┤M├\n",
       "     └───┘│      ││      │ ║  ║ └╥┘\n",
       "q_3: ─────┤3     ├┤3     ├─╫──╫──╫─\n",
       "          └──────┘└──────┘ ║  ║  ║ \n",
       "c: 3/══════════════════════╩══╩══╩═\n",
       "                           0  1  2 "
      ]
     },
     "execution_count": 168,
     "metadata": {},
     "output_type": "execute_result"
    }
   ],
   "source": [
    "n = 4\n",
    "grover_circuit = QuantumCircuit(n, 3)\n",
    "grover_circuit = initialize_s(grover_circuit, [0,1,2])\n",
    "grover_circuit.append(oracle_ex3, [0,1,2,3])\n",
    "grover_circuit.append(diffuser(n), [0,1,2,3])\n",
    "grover_circuit.measure([0,1,2], [0,1,2])\n",
    "grover_circuit.draw()"
   ]
  },
  {
   "cell_type": "code",
   "execution_count": 169,
   "metadata": {},
   "outputs": [
    {
     "data": {
      "image/png": "[encoded data removed]",
      "text/plain": [
       "<Figure size 700x500 with 1 Axes>"
      ]
     },
     "execution_count": 169,
     "metadata": {},
     "output_type": "execute_result"
    }
   ],
   "source": [
    "aer_sim = Aer.get_backend('aer_simulator')\n",
    "transpiled_grover_circuit = transpile(grover_circuit, aer_sim)\n",
    "qobj = assemble(transpiled_grover_circuit)\n",
    "results = aer_sim.run(qobj).result()\n",
    "counts = results.get_counts()\n",
    "plot_histogram(counts)"
   ]
  },
  {
   "attachments": {},
   "cell_type": "markdown",
   "metadata": {},
   "source": [
    "### b) Difference Between a Phase Oracle and a Boolean oracle\n",
    "The phase oracle uses the phase of a state to mark the desired element, whereas the boolean oracle uses a fourth qubit to mark the desired element."
   ]
  }
 ],
 "metadata": {
  "kernelspec": {
   "display_name": "quantum",
   "language": "python",
   "name": "python3"
  },
  "language_info": {
   "name": "python",
   "version": "3.10.9"
  },
  "orig_nbformat": 4,
  "vscode": {
   "interpreter": {
    "hash": "692f1b21ba17fc90f1df9bb34e89feef4eacac12d794308b3b869d3a31611115"
   }
  }
 },
 "nbformat": 4,
 "nbformat_minor": 2
}
