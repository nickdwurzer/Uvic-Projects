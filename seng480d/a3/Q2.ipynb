{
 "cells": [
  {
   "cell_type": "markdown",
   "id": "f1cf7582",
   "metadata": {},
   "source": [
    "# The Parity Problem\n",
    "You are given a function as a black box: $ f: \\{0, 1\\}^n \\rightarrow \\{0, 1\\}$ and $f(x) = u.x \\mod2$.\n",
    "\n",
    "For some hidden $u \\in \\{0, 1\\}^n$, find $u$ with as few queries as possible. This is a restricted version of the Deutsch–Jozsa algorithm where instead of distinguishing between two different classes of functions, it tries to learn a string encoded in a function. "
   ]
  },
  {
   "cell_type": "markdown",
   "id": "c3510c31",
   "metadata": {},
   "source": [
    "## A classical solution"
   ]
  },
  {
   "cell_type": "markdown",
   "id": "1b1dd71f",
   "metadata": {},
   "source": [
    "![Classical Solution](bv.PNG \"A classical solution the parity problem\")"
   ]
  },
  {
   "cell_type": "markdown",
   "id": "98650d71",
   "metadata": {},
   "source": [
    "We need $n$ queries to compute the hidden string, because each time you run this circuit, you get only one bit of information. \n",
    "For example: let the hidden string $u = 101 $.\n",
    "\n",
    "$$ f(100) = 1 $$ \n",
    "\n",
    "$$ f(010) = 0 $$\n",
    "\n",
    "$$ f(001) = 1 $$\n",
    "\n",
    "One possible solution to implement this classically is to use a classical AND gate as a mask to get each bit of information. "
   ]
  },
  {
   "cell_type": "markdown",
   "id": "64e75ace",
   "metadata": {},
   "source": [
    "## The Bernstein-Vazirani Algorithm\n",
    "In contrast to the classical solution, the quantum solution requires only one query to find the hidden $u$. This algorithm was invented by Ethan Bernstein and Umesh Vazirani in 1992. Your task is to implement this algorithm in Q#. You can read more about the algorithm [here](https://en.wikipedia.org/wiki/Bernstein%E2%80%93Vazirani_algorithm).\n",
    "![Quantum Solution](bv-q.PNG \"A quantum solution the parity problem\")\n",
    "\n",
    "The Bernstein-Vazirani algorithm is described as follows:\n",
    "1. Initialize n query qubits in the state $|0\\rangle$ and one answer qubit in the state $|-\\rangle$\n",
    "2. Apply the Hadamard Transform to an n-qubit query state to get $H|0\\rangle^{\\otimes n} =  \\frac{1}{2^{n/2}} \\sum_x |x> $.\n",
    "3. Apply the oracle $U_f$ which transforms the state to  $\\frac{1}{2^{n/2}} \\sum_x (-1)^{u.x} |x> $\n",
    "4. Apply the Hadamard Transform to the query state after the oracle is applied.\n",
    "5. Measure in the computational basis."
   ]
  },
  {
   "cell_type": "markdown",
   "id": "12865207",
   "metadata": {},
   "source": [
    "## Task 1\n",
    "**Summary**\n",
    "\n",
    "Prepare a qubit state in a uniform superposition\n",
    "\n",
    "**Input**\n",
    "\n",
    "*query*: an array of query qubits\n",
    "\n",
    "**Output** \n",
    "\n",
    "Apply the hadamard transform to n qubits in state $|0\\rangle$. \n"
   ]
  },
  {
   "cell_type": "code",
   "execution_count": 72,
   "id": "d94fa7cd",
   "metadata": {},
   "outputs": [],
   "source": [
    "import qsharp\n",
    "import qsharp.azure\n",
    "import matplotlib.pyplot as plt"
   ]
  },
  {
   "cell_type": "code",
   "execution_count": 73,
   "id": "e9060ffb",
   "metadata": {},
   "outputs": [],
   "source": [
    "%%qsharp \n",
    "open Microsoft.Quantum.Diagnostics; \n",
    "open Microsoft.Quantum.Canon;\n",
    "open Microsoft.Quantum.Arrays;\n",
    "open Microsoft.Quantum.Random;"
   ]
  },
  {
   "cell_type": "code",
   "execution_count": 74,
   "id": "6b59c547",
   "metadata": {},
   "outputs": [],
   "source": [
    "\n",
    "%%qsharp\n",
    "operation WalshHadamardTransform(query: Qubit[]): Unit is Adj{\n",
    "    for q in query{\n",
    "        H(q);\n",
    "    }\n",
    "}"
   ]
  },
  {
   "cell_type": "markdown",
   "id": "f877ffd3",
   "metadata": {},
   "source": [
    "## Task 2\n",
    "**Summary**\n",
    "\n",
    "Prepare the answer qubit state in the state $|-\\rangle$\n",
    "\n",
    "**Input**\n",
    "\n",
    "*answer*: the answer qubit"
   ]
  },
  {
   "cell_type": "code",
   "execution_count": 75,
   "id": "7bf85715",
   "metadata": {},
   "outputs": [],
   "source": [
    "%%qsharp\n",
    "operation PrepareAnswerQubit(answer: Qubit): Unit {\n",
    "    X(answer);\n",
    "    H(answer);\n",
    "}"
   ]
  },
  {
   "cell_type": "markdown",
   "id": "c4c067ea",
   "metadata": {},
   "source": [
    "## Task 3\n",
    "\n",
    "\n",
    "**Summary**\n",
    "\n",
    "Encode the secret string (supplied as a boolean array s) into a function $U_f$\n",
    "\n",
    "**Input**: \n",
    "query: qubit array\n",
    "answer: answer qubit\n",
    "s: secret string as a boolean array\n"
   ]
  },
  {
   "cell_type": "code",
   "execution_count": 76,
   "id": "c5a9091a",
   "metadata": {},
   "outputs": [],
   "source": [
    "%%qsharp\n",
    "operation Uf(query : Qubit[], answer: Qubit, s: Bool[]): Unit {\n",
    "    for i in 0..(Length(s) - 1){\n",
    "        if(s[i] == true){\n",
    "            Z(query[i]);\n",
    "        }\n",
    "    }\n",
    "}"
   ]
  },
  {
   "cell_type": "markdown",
   "id": "26effd64",
   "metadata": {},
   "source": [
    "## Task 4: Explain what gates you applied to create the encoded string as $U_f$ and why you applied them."
   ]
  },
  {
   "attachments": {},
   "cell_type": "markdown",
   "id": "b917aeaa",
   "metadata": {},
   "source": [
    "I'm not sure if I fully understand this algorithm yet, but what I think I did was apply a phase change to each qubit for each bit encoded as a 1 in string s.  This results in the intial $\\ket{0}$ being transformed to $\\ket{1}$ after the hadamard transformations."
   ]
  },
  {
   "cell_type": "markdown",
   "id": "dd3af85c",
   "metadata": {},
   "source": [
    "## Task 5: Run the Bernstein-Vazirani Algorithm using operations defined above\n",
    "\n",
    "1. Create the secret string, and the required qubits\n",
    "1. Perform the Bernstein Vazirani algorithm by using the tasks above. \n",
    "1. Measure the resulting query qubits. \n",
    "1. Transform the query results into an integer array which should give you the secret string. Return this integer array.\n",
    "\n",
    "**Notice the hadamard-oracle-hadamard structure of the circuit. You can use the within..apply pattern in Q\\# to do this. (Lecture 8 programming slides, Slide\\# 26 )** "
   ]
  },
  {
   "cell_type": "code",
   "execution_count": 77,
   "id": "0beffbd5",
   "metadata": {},
   "outputs": [],
   "source": [
    "%%qsharp\n",
    "operation BernsteinVazirani () : Int [] {\n",
    "    //mutable result = [0, size=6]; //Change the size according to the size of your secret string\n",
    "    mutable result = [];\n",
    "    use q = Qubit[6];\n",
    "    use answer = Qubit();\n",
    "    let s = [true, false, false, true, false, false];\n",
    "    PrepareAnswerQubit(answer);\n",
    "    within{\n",
    "        WalshHadamardTransform(q);\n",
    "    }\n",
    "    apply{\n",
    "        Uf(q, answer, s);\n",
    "    }\n",
    "    for qubit in q{\n",
    "        let measurement = Measure ([PauliZ], [qubit]) == Zero ? 0|1;\n",
    "        set result += [measurement];\n",
    "    }\n",
    "    \n",
    "    let _ = Measure([PauliZ],[answer]);\n",
    "    return result;\n",
    "}"
   ]
  },
  {
   "cell_type": "code",
   "execution_count": 78,
   "id": "5ec58fe0",
   "metadata": {},
   "outputs": [
    {
     "name": "stdout",
     "output_type": "stream",
     "text": [
      "[1, 0, 0, 1, 0, 0]\n"
     ]
    }
   ],
   "source": [
    "result = BernsteinVazirani.simulate()\n",
    "print(result)"
   ]
  },
  {
   "cell_type": "code",
   "execution_count": null,
   "id": "0cfbb3e5",
   "metadata": {},
   "outputs": [],
   "source": []
  }
 ],
 "metadata": {
  "kernelspec": {
   "display_name": "quantum",
   "language": "python",
   "name": "python3"
  },
  "language_info": {
   "codemirror_mode": {
    "name": "ipython",
    "version": 3
   },
   "file_extension": ".py",
   "mimetype": "text/x-python",
   "name": "python",
   "nbconvert_exporter": "python",
   "pygments_lexer": "ipython3",
   "version": "3.10.9"
  }
 },
 "nbformat": 4,
 "nbformat_minor": 5
}
