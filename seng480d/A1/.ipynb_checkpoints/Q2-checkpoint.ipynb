{
 "cells": [
  {
   "cell_type": "code",
   "execution_count": 1,
   "id": "de8e6607",
   "metadata": {
    "scrolled": true
   },
   "outputs": [
    {
     "data": {
      "text/html": [
       "<pre style=\"word-wrap: normal;white-space: pre;background: #fff0;line-height: 1.1;font-family: &quot;Courier New&quot;,Courier,monospace\">   ┌───┐┌───┐┌───┐\n",
       "q: ┤ X ├┤ Z ├┤ H ├\n",
       "   └───┘└───┘└───┘</pre>"
      ],
      "text/plain": [
       "   ┌───┐┌───┐┌───┐\n",
       "q: ┤ X ├┤ Z ├┤ H ├\n",
       "   └───┘└───┘└───┘"
      ]
     },
     "execution_count": 1,
     "metadata": {},
     "output_type": "execute_result"
    }
   ],
   "source": [
    "import qiskit as qk\n",
    "circ1 = qk.QuantumCircuit(1)\n",
    "circ1.x(0)\n",
    "circ1.z(0)\n",
    "circ1.h(0)\n",
    "circ1.draw()"
   ]
  },
  {
   "cell_type": "code",
   "execution_count": 2,
   "id": "95a5851a",
   "metadata": {},
   "outputs": [
    {
     "data": {
      "text/html": [
       "<pre style=\"word-wrap: normal;white-space: pre;background: #fff0;line-height: 1.1;font-family: &quot;Courier New&quot;,Courier,monospace\">     ┌───┐     \n",
       "q_0: ┤ H ├──■──\n",
       "     └───┘┌─┴─┐\n",
       "q_1: ─────┤ X ├\n",
       "          └───┘</pre>"
      ],
      "text/plain": [
       "     ┌───┐     \n",
       "q_0: ┤ H ├──■──\n",
       "     └───┘┌─┴─┐\n",
       "q_1: ─────┤ X ├\n",
       "          └───┘"
      ]
     },
     "execution_count": 2,
     "metadata": {},
     "output_type": "execute_result"
    }
   ],
   "source": [
    "circ2 = qk.QuantumCircuit(2)\n",
    "circ2.h(0)\n",
    "circ2.cx(0,1)\n",
    "circ2.draw()"
   ]
  },
  {
   "cell_type": "code",
   "execution_count": 3,
   "id": "2b461147",
   "metadata": {},
   "outputs": [
    {
     "data": {
      "text/html": [
       "<pre style=\"word-wrap: normal;white-space: pre;background: #fff0;line-height: 1.1;font-family: &quot;Courier New&quot;,Courier,monospace\">     ┌───┐ ░       ░ \n",
       "q_0: ┤ H ├─░───■───░─\n",
       "     ├───┤ ░ ┌─┴─┐ ░ \n",
       "q_1: ┤ H ├─░─┤ X ├─░─\n",
       "     └───┘ ░ └───┘ ░ </pre>"
      ],
      "text/plain": [
       "     ┌───┐ ░       ░ \n",
       "q_0: ┤ H ├─░───■───░─\n",
       "     ├───┤ ░ ┌─┴─┐ ░ \n",
       "q_1: ┤ H ├─░─┤ X ├─░─\n",
       "     └───┘ ░ └───┘ ░ "
      ]
     },
     "execution_count": 3,
     "metadata": {},
     "output_type": "execute_result"
    }
   ],
   "source": [
    "circ3 = qk.QuantumCircuit(2)\n",
    "circ3.h(0)\n",
    "circ3.h(1)\n",
    "circ3.barrier(0,1)\n",
    "circ3.cx(0,1)\n",
    "circ3.barrier(0,1)\n",
    "circ3.draw()"
   ]
  },
  {
   "cell_type": "code",
   "execution_count": null,
   "id": "a773daa3",
   "metadata": {},
   "outputs": [],
   "source": []
  }
 ],
 "metadata": {
  "kernelspec": {
   "display_name": "Python 3 (ipykernel)",
   "language": "python",
   "name": "python3"
  },
  "language_info": {
   "codemirror_mode": {
    "name": "ipython",
    "version": 3
   },
   "file_extension": ".py",
   "mimetype": "text/x-python",
   "name": "python",
   "nbconvert_exporter": "python",
   "pygments_lexer": "ipython3",
   "version": "3.9.13"
  }
 },
 "nbformat": 4,
 "nbformat_minor": 5
}
