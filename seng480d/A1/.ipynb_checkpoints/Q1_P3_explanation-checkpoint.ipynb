{
 "cells": [
  {
   "cell_type": "markdown",
   "id": "067cd5bf",
   "metadata": {},
   "source": [
    "#### P3\n",
    "At barrier one, the quibits states are: $$\\frac{1}{2} \\Bigl(|00> + |01> + |10> + |11> \\Bigr)$$\n",
    "This is representative of two qubits where the probability of measuring a |1> oor |0> for either qubit is 50%, thus there is a 25% probability of any of the possible states for the system.\n",
    "At barrier two, the quibits states are: $$\\frac{1}{2} \\Bigl(|00> + |01> + |10> + |11> \\Bigr)$$\n",
    "The two qubit system has the same probailities as at the last barrier.  This is true because the probabilty of |0> equals the probabilty of |1> for q1."
   ]
  }
 ],
 "metadata": {
  "kernelspec": {
   "display_name": "Python 3 (ipykernel)",
   "language": "python",
   "name": "python3"
  },
  "language_info": {
   "codemirror_mode": {
    "name": "ipython",
    "version": 3
   },
   "file_extension": ".py",
   "mimetype": "text/x-python",
   "name": "python",
   "nbconvert_exporter": "python",
   "pygments_lexer": "ipython3",
   "version": "3.9.13"
  }
 },
 "nbformat": 4,
 "nbformat_minor": 5
}
