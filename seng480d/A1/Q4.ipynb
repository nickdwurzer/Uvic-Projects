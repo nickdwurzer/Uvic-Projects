{
 "cells": [
  {
   "cell_type": "code",
   "execution_count": 25,
   "id": "23bea6e2",
   "metadata": {},
   "outputs": [
    {
     "data": {
      "application/x-qsharp-data": "[\"p1\",\"p2\",\"p3\"]",
      "text/html": [
       "<ul><li>p1</li><li>p2</li><li>p3</li></ul>"
      ],
      "text/plain": [
       "p1, p2, p3"
      ]
     },
     "execution_count": 25,
     "metadata": {
      "application/x-qsharp-data": {},
      "text/html": {},
      "text/plain": {}
     },
     "output_type": "execute_result"
    }
   ],
   "source": [
    "operation p1() : Result {\n",
    "    use qubit = Qubit();\n",
    "    X(qubit);\n",
    "    Z(qubit);\n",
    "    H(qubit);\n",
    "    let result = M(qubit);\n",
    "    Reset(qubit);\n",
    "    return result;\n",
    "}\n",
    "    \n",
    "operation p2(): Result[] {\n",
    "    use q1 = Qubit();\n",
    "    use q2 = Qubit();\n",
    "    H(q1);\n",
    "    CNOT(q1,q2);\n",
    "    let resultq1 = M(q1);\n",
    "    let resultq2 = M(q2);\n",
    "    return [resultq1, resultq2];\n",
    "}\n",
    "\n",
    "operation p3(): Result[] {\n",
    "    use q = Qubit[2];\n",
    "    H(q[0]);\n",
    "    H(q[1]);\n",
    "    CNOT(q[0], q[1]);\n",
    "    let resultq1 = M(q[0]);\n",
    "    let resultq2 = M(q[1]);\n",
    "    return [resultq1, resultq2];\n",
    "}"
   ]
  },
  {
   "cell_type": "code",
   "execution_count": 26,
   "id": "44108918",
   "metadata": {},
   "outputs": [
    {
     "data": {
      "application/x-qsharp-data": "1",
      "text/plain": [
       "One"
      ]
     },
     "execution_count": 26,
     "metadata": {
      "application/x-qsharp-data": {},
      "text/plain": {}
     },
     "output_type": "execute_result"
    }
   ],
   "source": [
    "%simulate p1"
   ]
  },
  {
   "cell_type": "code",
   "execution_count": 28,
   "id": "bec284ba",
   "metadata": {},
   "outputs": [
    {
     "data": {
      "application/x-qsharp-data": "[0,0]",
      "text/html": [
       "<ul><li>Zero</li><li>Zero</li></ul>"
      ],
      "text/plain": [
       "Zero, Zero"
      ]
     },
     "execution_count": 28,
     "metadata": {
      "application/x-qsharp-data": {},
      "text/html": {},
      "text/plain": {}
     },
     "output_type": "execute_result"
    }
   ],
   "source": [
    "%simulate p2"
   ]
  },
  {
   "cell_type": "code",
   "execution_count": 31,
   "id": "84715923",
   "metadata": {},
   "outputs": [
    {
     "data": {
      "application/x-qsharp-data": "[0,0]",
      "text/html": [
       "<ul><li>Zero</li><li>Zero</li></ul>"
      ],
      "text/plain": [
       "Zero, Zero"
      ]
     },
     "execution_count": 31,
     "metadata": {
      "application/x-qsharp-data": {},
      "text/html": {},
      "text/plain": {}
     },
     "output_type": "execute_result"
    }
   ],
   "source": [
    "%simulate p3"
   ]
  }
 ],
 "metadata": {
  "kernelspec": {
   "display_name": "Q#",
   "language": "qsharp",
   "name": "iqsharp"
  },
  "language_info": {
   "file_extension": ".qs",
   "mimetype": "text/x-qsharp",
   "name": "qsharp",
   "version": "0.27"
  }
 },
 "nbformat": 4,
 "nbformat_minor": 5
}
