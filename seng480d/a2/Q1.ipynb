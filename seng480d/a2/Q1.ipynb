{
 "cells": [
  {
   "cell_type": "markdown",
   "id": "ba2efc2e",
   "metadata": {},
   "source": [
    "# BB84 Key Distribution Protocol"
   ]
  },
  {
   "cell_type": "markdown",
   "id": "3838f9d8",
   "metadata": {},
   "source": [
    "In Part 1 of this assignment, you learnt about a simple quantum key distribution protocol (called BB84, after  C. H. Bennett and G. Brassard) for securely generating random bitstrings which can then be used to encrypt information to securely share it between parties. Implement this protocol in Q# using the template given below. "
   ]
  },
  {
   "cell_type": "markdown",
   "id": "42d68fee",
   "metadata": {},
   "source": [
    "#### Run these cells before beginning to import necessary packages."
   ]
  },
  {
   "cell_type": "code",
   "execution_count": 1,
   "id": "99722aa4",
   "metadata": {},
   "outputs": [
    {
     "name": "stdout",
     "output_type": "stream",
     "text": [
      "Preparing Q# environment...\n"
     ]
    }
   ],
   "source": [
    "import qsharp\n",
    "import qsharp.azure\n",
    "import matplotlib.pyplot as plt"
   ]
  },
  {
   "cell_type": "code",
   "execution_count": 2,
   "id": "ea2b993d",
   "metadata": {},
   "outputs": [],
   "source": [
    "%%qsharp \n",
    "open Microsoft.Quantum.Diagnostics; \n",
    "open Microsoft.Quantum.Canon;\n",
    "open Microsoft.Quantum.Arrays;\n",
    "open Microsoft.Quantum.Random;"
   ]
  },
  {
   "cell_type": "markdown",
   "id": "56768785",
   "metadata": {},
   "source": [
    "### Task 1: Random Bits\n",
    "Implement an operation that returns a random bit. This will be used in further operations.\n",
    "\n",
    "**Summary**\n",
    "\n",
    "Returns a random bit (0 or 1) with equal probability.\n",
    "\n",
    "**Output**\n",
    "\n",
    "A random integer in \\{0, 1\\}"
   ]
  },
  {
   "cell_type": "code",
   "execution_count": 3,
   "id": "c1cb0039",
   "metadata": {},
   "outputs": [],
   "source": [
    "%%qsharp\n",
    "operation RandomBit() : Int {\n",
    "    return DrawRandomInt(0,1);\n",
    "}"
   ]
  },
  {
   "cell_type": "markdown",
   "id": "35d068d4",
   "metadata": {},
   "source": [
    "### Task 2: Alice (Sender)\n",
    "The first step of this protocol is for Alice to generate a random bitstring and to encode a qubit string by initializing them randomly to $|0\\rangle, |1\\rangle, |+\\rangle \\text{ or } |-\\rangle$. \n",
    "\n",
    "Note that $|0\\rangle$ and $|1\\rangle$ are the basis vectors in the Z basis and $|+\\rangle$ and $|-\\rangle$ are the basis vectors in the X basis. Therefore, we can say that Alice is encoding the random bitstring $S_A$ either in the Z basis ($|0\\rangle$ and $|1\\rangle$) or the X basis ($|+\\rangle$ and $|-\\rangle$).\n"
   ]
  },
  {
   "cell_type": "markdown",
   "id": "97b9d1c2",
   "metadata": {},
   "source": [
    "**Summary**\n",
    "\n",
    "This operation prepares each of the qubits in the input array in one of the |0⟩, |1⟩, |+⟩, or |-⟩ states randomly.\n",
    "Additionally, it returns a tuple of two arrays, an array of the chosen bases (X or Z) and an array of the encoded bits (0 or 1).\n",
    "\n",
    "**Input**\n",
    "\n",
    "*qs*: A qubit array that the sender prepares randomly in X and Z basis as either 0 or 1\n",
    "\n",
    "*Output*: A tuple of two integer arrays. Each element of the first array indicates the basis chosen, 0 for Z, 1 for X.\n",
    "The corresponding element of the second array indicates whether the qubit was prepared as 0 or 1 in that basis.\n"
   ]
  },
  {
   "cell_type": "code",
   "execution_count": 4,
   "id": "e848436c",
   "metadata": {},
   "outputs": [],
   "source": [
    "%%qsharp\n",
    "operation Alice(qs : Qubit[]) : (Int[], Int[]) {\n",
    "    mutable bases = [];\n",
    "    mutable values = [];\n",
    "    for q in qs{\n",
    "        if(RandomBit() == 1){\n",
    "            if(RandomBit() == 1){\n",
    "                //x basis, value 1 |->\n",
    "                Reset(q);\n",
    "                X(q);\n",
    "                H(q);\n",
    "                set bases += [1];\n",
    "                set values += [1];\n",
    "\n",
    "            }\n",
    "            else{\n",
    "                //x basis, value 0 |+>\n",
    "                Reset(q);\n",
    "                H(q);\n",
    "                set bases += [1];\n",
    "                set values += [0];\n",
    "            }\n",
    "        }\n",
    "        else{\n",
    "            if(RandomBit() == 1){\n",
    "                //z-basis value 1 |1>\n",
    "                Reset(q);\n",
    "                X(q);\n",
    "                set bases += [0];\n",
    "                set values += [1];\n",
    "            }\n",
    "            else{\n",
    "                //z-basis value 0 |0>\n",
    "                Reset(q);\n",
    "                set bases += [0];\n",
    "                set values += [0];\n",
    "            }\n",
    "        }\n",
    "    }\n",
    "    return (bases, values);\n",
    "\n",
    "}"
   ]
  },
  {
   "cell_type": "markdown",
   "id": "32e9200b",
   "metadata": {},
   "source": [
    "### Task 3: Bob (Receiver)\n",
    "\n",
    "In the next step of the protocol, Bob receives qubits and randomly selects bases to measure in. \n",
    "\n",
    "**Summary**\n",
    "\n",
    "Measures each qubit in a randomly chosen basis, X or Z, and returns the chosen bases and the measurement results.\n",
    "\n",
    "**Input**\n",
    "\n",
    "qs: Array of qubits which were prepared by the sender\n",
    "\n",
    "**Output**\n",
    "\n",
    "A tuple of two integer arrays. Each element of the first array indicates the basis chosen for measurement, 0 for Z, 1 for X. The corresponding element of the second array indicates whether the qubit was measured as 0 or 1 in that basis.\n"
   ]
  },
  {
   "cell_type": "code",
   "execution_count": 5,
   "id": "dfc36304",
   "metadata": {},
   "outputs": [],
   "source": [
    "%%qsharp\n",
    "operation Bob(qs : Qubit[]) : (Int[], Int[]) {\n",
    "    mutable measurements = [];\n",
    "    mutable bases = [];\n",
    "    for q in qs{\n",
    "        if( RandomBit() == 1){\n",
    "            let measurement = Measure ([PauliX], [q]) == Zero ? 0|1;\n",
    "            set measurements += [measurement];\n",
    "            set bases += [1];\n",
    "        }\n",
    "        else{\n",
    "            let measurement = Measure ([PauliZ], [q]) == Zero ? 0|1;\n",
    "            set measurements += [measurement];\n",
    "            set bases += [0];\n",
    "        }\n",
    "    }\n",
    "    return (bases, measurements);\n",
    "}"
   ]
  },
  {
   "cell_type": "markdown",
   "id": "716a8c86",
   "metadata": {},
   "source": [
    "### Task 4: Putting it all together\n",
    "\n",
    "So now we just need to call our operations in the right order to perform key distribution. The length of generated keys is probabilistic, since we do not know how many times the sender and the receiver will choose the same basis. Our BB84 operation takes an argument $N$ which specifies the number of protocol iterations we run. The length of our key will be between 0 and N, and on average it will be $\\frac{1}{2}N$.\n",
    "\n",
    "**Summary**\n",
    "\n",
    "This operation acts as the intermediary exchanging both classical and quantum information between parties.\n",
    "$N$ controls the number of qubits transmitted, so our final key will be of length less than or equal to $N$.\n",
    "\n",
    "**Input**\n",
    "\n",
    "N: The number of qubits to attempt key distribution with. \n",
    "\n",
    "**Output**\n",
    "\n",
    "A tuple of 5 integer arrays. \n",
    "- 1 - The preparation bases the sender used.\n",
    "- 2 - The measurement bases the receiver used.\n",
    "- 3 - The bits that the sender prepared in either basis.\n",
    "- 4 - The bits that were measured by the receiver.\n",
    "- 5 - The key that the receiver made after comparing bases."
   ]
  },
  {
   "cell_type": "code",
   "execution_count": 6,
   "id": "3b0ff6b8",
   "metadata": {},
   "outputs": [
    {
     "name": "stdout",
     "output_type": "stream",
     "text": [
      "/snippet_.qs(14,19): warning QS3308: Deprecated syntax. Use [] to construct an empty array, or [x, size = n] to construct an array of x repeated n times.\n"
     ]
    }
   ],
   "source": [
    "%%qsharp\n",
    "operation BB84(N : Int) : (Int[], Int[], Int[], Int[], Int[]) {\n",
    "    //let result = [];\n",
    "    use qubits = Qubit[N];\n",
    "        \n",
    "    //preparation bases\n",
    "    let (prep_bases, avalues) = Alice(qubits);\n",
    "    Message($\"avalues: {avalues}\");\n",
    "\n",
    "    //measure\n",
    "    let (meas_bases, bvalues) = Bob(qubits);\n",
    "    Message($\"bvalues: {bvalues}\");\n",
    "\n",
    "    //compare\n",
    "    mutable key = new Int[0];\n",
    "    for i in 0..(Length(meas_bases) - 1){\n",
    "        if(prep_bases[i] == meas_bases[i]){\n",
    "            set key += [avalues[i]];\n",
    "        }\n",
    "    }\n",
    "    \n",
    "    return (prep_bases, meas_bases, avalues, bvalues, key);\n",
    "}"
   ]
  },
  {
   "cell_type": "markdown",
   "id": "eec6a6da",
   "metadata": {},
   "source": [
    "### Check your work"
   ]
  },
  {
   "cell_type": "code",
   "execution_count": 7,
   "id": "5d99b40b",
   "metadata": {},
   "outputs": [
    {
     "name": "stdout",
     "output_type": "stream",
     "text": [
      "avalues: [1,0,0,0,0,1,1,0,1,1,0,1,1,0,1,1,0,0,1,1]\n",
      "bvalues: [1,0,1,0,0,1,0,0,1,1,0,1,1,1,1,0,1,0,1,1]\n",
      "Let's compare this to the selected bases, and the transmitted qubit states\n",
      "Alice's bases were:       | Z | Z | Z | X | X | X | Z | Z | Z | Z | X | X | Z | Z | Z | Z | X | Z | X | Z |\n",
      "Bob's bases were:         | X | Z | X | Z | X | Z | X | Z | Z | Z | Z | Z | Z | X | Z | X | Z | X | X | Z |\n",
      "Both bases match (yes/no):| n | y | n | n | y | n | n | y | y | y | n | n | y | n | y | n | n | n | y | y |\n",
      "Alice's encoded bit:      | 1 | 0 | 0 | 0 | 0 | 1 | 1 | 0 | 1 | 1 | 0 | 1 | 1 | 0 | 1 | 1 | 0 | 0 | 1 | 1 |\n",
      "The states sent were:     ||1>||0>||0>||+>||+>||->||1>||0>||1>||1>||+>||->||1>||0>||1>||1>||+>||0>||->||1>|\n",
      "Bob measured:             | 1 | 0 | 1 | 0 | 0 | 1 | 0 | 0 | 1 | 1 | 0 | 1 | 1 | 1 | 1 | 0 | 1 | 0 | 1 | 1 |\n",
      "Notice how the key is formed by the bits where bases are equal\n",
      "Bob's key:                |   | 0 |   |   | 0 |   |   | 0 | 1 | 1 |   |   | 1 |   | 1 |   |   |   | 1 | 1 |\n",
      "Alice's key:              |   | 0 |   |   | 0 |   |   | 0 | 1 | 1 |   |   | 1 |   | 1 |   |   |   | 1 | 1 |\n",
      "The key that was generated was [0, 0, 0, 1, 1, 1, 1, 1, 1]\n",
      "\n"
     ]
    }
   ],
   "source": [
    "def formatOutput(basesS, basesR, bitS, bitR, key):\n",
    "    keyCopy = key.copy()\n",
    "    same = \"|\" \n",
    "    basisSentChar = \"|\"\n",
    "    basisRecChar = \"|\"\n",
    "    bitSent = \"|\"\n",
    "    bitRec = \"|\"\n",
    "    keyS = \"|\"\n",
    "    keyR = \"|\"\n",
    "    stateSent = \"|\"\n",
    "    for i in range(len(basesR)):\n",
    "        bitSent += ' 1 |' if bitS[i] == 1 else ' 0 |'\n",
    "        bitRec += ' 1 |' if bitR[i] == 1 else ' 0 |'\n",
    "        same += ' y |' if basesR[i] == basesS[i] else ' n |'\n",
    "        keyS += ' {} |'.format(bitS[i]) if basesR[i] == basesS[i] else \"   |\"\n",
    "        keyR += ' {} |'.format(key.pop(0)) if basesR[i] == basesS[i] else \"   |\"\n",
    "        basisRecChar += ' Z |' if basesR[i] == 0 else ' X |'\n",
    "        if basesS[i] == 0:\n",
    "            stateSent += \"|0>|\" if bitS[i] == 0 else \"|1>|\"\n",
    "            basisSentChar += \" Z |\"\n",
    "        else:\n",
    "            stateSent += \"|+>|\" if bitS[i] == 0 else \"|->|\"\n",
    "            basisSentChar += \" X |\"\n",
    "\n",
    "    print(\"Let's compare this to the selected bases, and the transmitted qubit states\")\n",
    "    print(\"Alice's bases were:       {}\".format(basisSentChar))\n",
    "    print(\"Bob's bases were:         {}\".format(basisRecChar))\n",
    "    print(\"Both bases match (yes/no):{}\".format(same))\n",
    "    print(\"Alice's encoded bit:      {}\".format(bitSent))\n",
    "    print(\"The states sent were:     {}\".format(stateSent))\n",
    "    print(\"Bob measured:             {}\".format(bitRec))\n",
    "    print(\"Notice how the key is formed by the bits where bases are equal\")\n",
    "    print(\"Bob's key:                {}\".format(keyR))\n",
    "    print(\"Alice's key:              {}\".format(keyS))\n",
    "    print(\"The key that was generated was {}\\n\".format(keyCopy))\n",
    "(basesS, basesR, bitS, bitR, key) = BB84.simulate(N=20)\n",
    "formatOutput(basesS, basesR, bitS, bitR, key)"
   ]
  },
  {
   "cell_type": "code",
   "execution_count": null,
   "id": "c22a3274",
   "metadata": {},
   "outputs": [],
   "source": []
  }
 ],
 "metadata": {
  "kernelspec": {
   "display_name": "quantum",
   "language": "python",
   "name": "python3"
  },
  "language_info": {
   "codemirror_mode": {
    "name": "ipython",
    "version": 3
   },
   "file_extension": ".py",
   "mimetype": "text/x-python",
   "name": "python",
   "nbconvert_exporter": "python",
   "pygments_lexer": "ipython3",
   "version": "3.10.9"
  }
 },
 "nbformat": 4,
 "nbformat_minor": 5
}
