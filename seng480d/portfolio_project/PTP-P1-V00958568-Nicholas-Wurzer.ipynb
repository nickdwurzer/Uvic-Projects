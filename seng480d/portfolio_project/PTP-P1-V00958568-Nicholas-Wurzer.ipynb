{
 "cells": [
  {
   "cell_type": "markdown",
   "metadata": {},
   "source": [
    "# Term Portfolio Project\n",
    "\n",
    "&emsp;Admitedly, I have not been keeping up with my portoflio, although I would like to for the second half of this course. Since I'm writing it all at once it will be a good form of review of everything up until this point in the semester.  I will write what I've learned more or less chronologically, rather than break up information by type (ex. formulas, code).  As I go I will try to document the technologies I've learned along the way."
   ]
  },
  {
   "cell_type": "markdown",
   "metadata": {},
   "source": [
    "### Markdown\n",
    "Currently, I'm improving my skills using Markdown in Jupyter.  I'm using the official Jupyter Markdown documentation found <a href =\"https://jupyter-notebook.readthedocs.io/en/stable/examples/Notebook/Working%20With%20Markdown%20Cells.html\">here</a> and documentation from IBM found <a href=\"https://www.ibm.com/docs/en/watson-studio-local/1.2.3?topic=notebooks-markdown-jupyter-cheatsheet\">here</a>\n",
    "<br>\n",
    "I'm still beginning to learn Latex as well but I'm using the Katex documentation found <a href=\"https://katex.org/docs/supported.html\">here</a>\n",
    "<br>\n",
    "So far I've used headings:  #, ##, ###, #...#, ... for progressively smaller headings from left to right.\n",
    "<br> embedded links: \\_\\_\\[text_to_display\\]\\(web_address\\)\\_\\_\n",
    "<br> line breaks: &lt;br&gt;\n",
    "<br> bold text: \\*\\*bold text here\\*\\*"
   ]
  },
  {
   "cell_type": "markdown",
   "metadata": {},
   "source": [
    "### Jupyter Kernel and Conda Environments\n",
    "&emsp;Setting up my environment for this course intially tripped me up.  Up until now, I have used one environment on my personal computer and in fact it never crossed my mind that I may need different versions of software, or different environments, for different coding projects.  So setting up Conda and my Jupyter Kernel for quantum computing taught me about virtual environments.  Basically, I think Conda has virtual environments built in, as well as a GUI to manage them.  After installing Conda, the command line now opens int he \"base\" Conda environment.  You can create new virtual environments based on the software requirements of a project.  In this way you could hav emultiple verions of software, but an environment will only point to one of those versions.  After setting up the environment, it can be activated from command line using the command \"conda activate \\<environment_name\\>\".  Once activated, you can create a Jupyter Kernel for that environment which I beleive allows the Jupyter GUI to run in a web browser.  Currently I use an extension for VSCode to develop Jupyter notebooks rather than the browser GUI."
   ]
  },
  {
   "cell_type": "markdown",
   "metadata": {},
   "source": [
    "### Software Used\n",
    "Once the environment has been created, we can go about installing the software used in this course.\n",
    "\n",
    "**Qiskit:** Qiskit is a software development kit (SDK) developed by IBM. Qiskit programs are written in Python and only have backends (quantum computers (QCs) or simulators) associated with IBM.  A unique feature of Qiskit is the ability to visualize qunatum circuits.\n",
    " \n",
    "**Q#:**  qsharp is a language itself, developed by Microsoft.  It has elements of C# or F# (not that that means much to me right now), and has the capability of running on many different backends including IBM's QCs through their cloud platform Microsoft Azure.\n",
    "\n",
    "In my opinion Qiskit is designed for learning about qunatum computing, whereas Q# is meant to be the language used in for quantum programming in the future.\n",
    "\n",
    "**IBM Quantum Experience:** This webtool has a nice GUI with drag-drop features for building and visualizing quantum circuits and autocompleting qiskit code (or qiskit code iwth autocompleting circuit visualization).  This a great tool for learning about quantum circuits."
   ]
  },
  {
   "cell_type": "markdown",
   "metadata": {},
   "source": [
    "### Linear Algebra Review\n",
    "To review linear algebra concepts, I watched all recommended Epsiodes (2,4,6-9,13-15) of the <a href=\"https://www.youtube.com/watch?v=kjBOesZCoqc&list=PL0-GT3co4r2y2YErbmuJw2L5tW4Ew2O5B\">Three Blue One Brown Linear Alebra Series</a>."
   ]
  },
  {
   "cell_type": "markdown",
   "metadata": {},
   "source": [
    "### First Steps\n",
    "#### Notation\n",
    "$$\\newcommand{\\ket}[1]{\\left|{#1}\\right\\rangle}$$\n",
    "$$\\newcommand{\\bra}[1]{\\left\\langle{#1}\\right|}$$\n",
    "There are three ways to represent the state of a qubit: as a Bloch sphere, in braket notation or as complex matrix (ket 0 and ket 1 shown top to bottom).\n",
    "##### Bloch Sphere\n",
    "<img src =Screen%20Shot%202023-02-17%20at%207.21.52%20PM.png height = \"200\">\n",
    "<figcaption>ket 0</figcaption>\n",
    "<br>\n",
    "<img src = Screen%20Shot%202023-02-17%20at%207.28.55%20PM.png height = \"200\">\n",
    "<figcaption>ket 1</figcaption>\n",
    "\n",
    "##### Braket Notation\n",
    "$\\ket{0}$ <br> $\\ket{1}$\n",
    "<br>\n",
    "In general:  a bra $\\bra{\\psi}$ is the complex conjugate transpose of the corresponding ket.\n",
    "So the ket $\\ket{abc} = \n",
    "\\begin{bmatrix}\n",
    "   a \\\\\n",
    "   b \\\\\n",
    "   c\n",
    "\\end{bmatrix}$\n",
    " has the corresponding bra\n",
    "$\\bra{a*b*c*} = \n",
    " \\begin{bmatrix}\n",
    "   a* \n",
    "   b* \n",
    "   c*\n",
    "\\end{bmatrix}$\n",
    "where a* is the comple conjugate of a.  The complex conjugate of 3+4i is 3-4i.\n",
    "##### Matrix\n",
    "$\\begin{bmatrix}\n",
    "   1 \\\\\n",
    "   0\n",
    "\\end{bmatrix}\n",
    "$\n",
    "<br><br>\n",
    "$\n",
    "\\begin{bmatrix}\n",
    "   0 \\\\\n",
    "   1\n",
    "\\end{bmatrix}$"
   ]
  },
  {
   "cell_type": "markdown",
   "metadata": {},
   "source": []
  },
  {
   "cell_type": "markdown",
   "metadata": {},
   "source": [
    "#### Superposition\n",
    "&emsp;A qubit is in a superposition until it is measured, at which point it will be measured as either a classical 1 or classical 0. The superposition is represented as $\\alpha\\ket{0} + \\beta\\ket{1}$ where $\\alpha$ and $\\beta$ are complex numbers and the probability of measuring a classical 0 is $\\lvert\\alpha\\rvert^2$.  Likewise the probability of measuring a classical 1 is $\\lvert\\beta\\rvert^2$."
   ]
  },
  {
   "cell_type": "markdown",
   "metadata": {},
   "source": [
    "#### Other Notable States\n",
    "$\\ket{+} = \\frac{1}{\\sqrt{2}}(\\ket{0}+\\ket{1})$\n",
    "<br>\n",
    "$\\ket{-} = \\frac{1}{\\sqrt{2}}(\\ket{0}-\\ket{1})$"
   ]
  },
  {
   "cell_type": "markdown",
   "metadata": {},
   "source": [
    "### Note:\n",
    "&emsp;As the deadline approaches for this assignment, I have not gotten as far as I've wanted to because learning latex and other markdown features has slowed me down.  At the bottom of this document I'm going to do my best to summarize what else I've learned in this course so far and I will update this with my full markdown notes for part 2 of the portfolio project.\n",
    "<br>\n",
    "&emspSoemthing I will also work on for part 2 is exporting to pdf in other ways since my links are not displaying properly.  I tried to get Jupyter's nbconvert to work but without success so I will try to get that working or another method."
   ]
  },
  {
   "cell_type": "markdown",
   "metadata": {},
   "source": [
    "### Summary\n",
    "&emsp;The concept of superposition was fairly straight forward for me, but I found entanglement to be a little tricky to wrap my head around. At first, I didn't understand how three individual quibits could be represented by 3 2x1 matrices but a three qubit system needed 8 qubits due to the tensor product of the qubits. How could we get more states than the sum of the pieces?  This is still a concept I'm working to solidify, but working with tensor products and applied controlled gates to multiqubit systems is helping my understanding.\n",
    "<br>\n",
    "&emsp;Something that really helped me connect a lot of dots in this course was coding the quantum key distribution algorithm in assignment 2.  Conceptually I understood what I was supposed to code, but when putting all the parts of the code together I was getting different keys for Bob and Alice.  I found Debugging really tricky since you don't know what state the qunatum computer is in at any given point!  I found my that my bug was a copy paste typo which resulted in the wrong gate being applied and once I fixed it the algorithm worked.  Even though I was provided the skeleton code, it was really really cool to code a quantum algorithm and know that it has a nontrivial purpose!  Lately, learning about Grover's search algorithm has also been really exciting (although I definitely still need to review it).\n",
    "<br>\n",
    "&emsp;About two years ago, I had read about the potential benefits of quantum computing and I had also read that google had controversially acheived quauntum supremacy by factoring large numbers (I think with Shor's factoring algorithm?).  I was skeptical because I did not know anything about quantum computing and often people get very excited about the POTENTIAL benefits of a new technology without knowing if it will be practical.  Although I'm still skeptical to some degree, I'm now convinced that qunatum computing will play a prominent role in computing in the future.  I don't know enough about the physics to be able to say if Intel's quantum dots will work out which I presume might make quantum computing possible in laptops or maybe even phones.  I also don't know if long-distance quantum entanglement will be practical for these devices (perhaps only for large companies, or maybe it will be too expensive to be practical for anybody). I'm now convinced though that quantum computing does have a place in cloud computing.  Seeing the speed up in grovers search is huge and I'm sure there are many more algorithms to learn and even more yet to be developed which will improve cloud computing and make many classically intractible problems possible in the future.\n",
    "<br>\n",
    "&emsp;I regret not starting this portfolio project sooner so that I could better demonstrate what I've learned in this course so far, but I will be better about getting caught up with this notebook and adding to it weekly form now on.  I can see that it will help me review topics and I will also be able to reference this in the future for assignments and beyond."
   ]
  },
  {
   "cell_type": "markdown",
   "metadata": {},
   "source": [
    "### Citations\n",
    "I wanted to submit something rather than nothing, but I have not had time to cite my work here.  Any information in this document came from web sources linked in the document or from lectures by Dr. Ulrike Stege, Dr. Hausi Muller and Priya Angura in the University of Victoria's Spring 2023 Seng480D(Quantum Algorithms) course."
   ]
  },
  {
   "cell_type": "code",
   "execution_count": null,
   "metadata": {},
   "outputs": [],
   "source": []
  }
 ],
 "metadata": {
  "kernelspec": {
   "display_name": "Python 3 (ipykernel)",
   "language": "python",
   "name": "python3"
  },
  "language_info": {
   "codemirror_mode": {
    "name": "ipython",
    "version": 3
   },
   "file_extension": ".py",
   "mimetype": "text/x-python",
   "name": "python",
   "nbconvert_exporter": "python",
   "pygments_lexer": "ipython3",
   "version": "3.10.9"
  },
  "vscode": {
   "interpreter": {
    "hash": "692f1b21ba17fc90f1df9bb34e89feef4eacac12d794308b3b869d3a31611115"
   }
  }
 },
 "nbformat": 4,
 "nbformat_minor": 2
}
